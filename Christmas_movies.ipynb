{
 "cells": [
  {
   "cell_type": "markdown",
   "id": "97f2650e",
   "metadata": {},
   "source": [
    "# ETL Processes"
   ]
  },
  {
   "cell_type": "markdown",
   "id": "15c8015e",
   "metadata": {},
   "source": [
    "### Import all required libraries and packages"
   ]
  },
  {
   "cell_type": "code",
   "execution_count": 1,
   "id": "49a4ba3d",
   "metadata": {},
   "outputs": [],
   "source": [
    "from pyspark.sql import SparkSession\n",
    "from pyspark.sql.functions import col, avg, round"
   ]
  },
  {
   "cell_type": "code",
   "execution_count": 2,
   "id": "45152116",
   "metadata": {},
   "outputs": [],
   "source": [
    "spark = SparkSession.builder.appName(\"ChristmasMovies\").getOrCreate()"
   ]
  },
  {
   "cell_type": "markdown",
   "id": "1168a60a",
   "metadata": {},
   "source": [
    "### Read CSV files into DataFrames"
   ]
  },
  {
   "cell_type": "code",
   "execution_count": 3,
   "id": "8370a316",
   "metadata": {},
   "outputs": [
    {
     "name": "stdout",
     "output_type": "stream",
     "text": [
      "+------+-------+------+---------+\n",
      "|userId|movieId|rating|timestamp|\n",
      "+------+-------+------+---------+\n",
      "|1     |1      |4.0   |964982703|\n",
      "|1     |3      |4.0   |964981247|\n",
      "|1     |6      |4.0   |964982224|\n",
      "|1     |47     |5.0   |964983815|\n",
      "|1     |50     |5.0   |964982931|\n",
      "|1     |70     |3.0   |964982400|\n",
      "|1     |101    |5.0   |964980868|\n",
      "|1     |110    |4.0   |964982176|\n",
      "|1     |151    |5.0   |964984041|\n",
      "|1     |157    |5.0   |964984100|\n",
      "+------+-------+------+---------+\n",
      "only showing top 10 rows\n",
      "\n"
     ]
    }
   ],
   "source": [
    "df1 = spark.read.format(\"csv\").option(\"header\", True).load(\"data/ratings.csv\")\n",
    "df1.show(10, truncate = False)"
   ]
  },
  {
   "cell_type": "code",
   "execution_count": 4,
   "id": "15ec837d",
   "metadata": {},
   "outputs": [
    {
     "name": "stdout",
     "output_type": "stream",
     "text": [
      "+-------+-------+------+\n",
      "|movieId|imdbId |tmdbId|\n",
      "+-------+-------+------+\n",
      "|1      |0114709|862   |\n",
      "|2      |0113497|8844  |\n",
      "|3      |0113228|15602 |\n",
      "|4      |0114885|31357 |\n",
      "|5      |0113041|11862 |\n",
      "|6      |0113277|949   |\n",
      "|7      |0114319|11860 |\n",
      "|8      |0112302|45325 |\n",
      "|9      |0114576|9091  |\n",
      "|10     |0113189|710   |\n",
      "+-------+-------+------+\n",
      "only showing top 10 rows\n",
      "\n"
     ]
    }
   ],
   "source": [
    "df2 = spark.read.format(\"csv\").option(\"header\", True).load(\"data/links.csv\")\n",
    "df2.show(10, truncate = False)"
   ]
  },
  {
   "cell_type": "code",
   "execution_count": 5,
   "id": "bb6bbc36",
   "metadata": {},
   "outputs": [
    {
     "name": "stdout",
     "output_type": "stream",
     "text": [
      "+-------+----------------------------------+-------------------------------------------+\n",
      "|movieId|title                             |genres                                     |\n",
      "+-------+----------------------------------+-------------------------------------------+\n",
      "|1      |Toy Story (1995)                  |Adventure|Animation|Children|Comedy|Fantasy|\n",
      "|2      |Jumanji (1995)                    |Adventure|Children|Fantasy                 |\n",
      "|3      |Grumpier Old Men (1995)           |Comedy|Romance                             |\n",
      "|4      |Waiting to Exhale (1995)          |Comedy|Drama|Romance                       |\n",
      "|5      |Father of the Bride Part II (1995)|Comedy                                     |\n",
      "|6      |Heat (1995)                       |Action|Crime|Thriller                      |\n",
      "|7      |Sabrina (1995)                    |Comedy|Romance                             |\n",
      "|8      |Tom and Huck (1995)               |Adventure|Children                         |\n",
      "|9      |Sudden Death (1995)               |Action                                     |\n",
      "|10     |GoldenEye (1995)                  |Action|Adventure|Thriller                  |\n",
      "+-------+----------------------------------+-------------------------------------------+\n",
      "only showing top 10 rows\n",
      "\n"
     ]
    }
   ],
   "source": [
    "df3 = spark.read.format(\"csv\").option(\"header\", True).load(\"data/movies.csv\")\n",
    "df3.show(10, truncate = False)"
   ]
  },
  {
   "cell_type": "markdown",
   "id": "c8aa5f67",
   "metadata": {},
   "source": [
    "### Perform various operations on DataFrames"
   ]
  },
  {
   "cell_type": "code",
   "execution_count": 6,
   "id": "e175f4af",
   "metadata": {},
   "outputs": [
    {
     "name": "stdout",
     "output_type": "stream",
     "text": [
      "+-------+------------------+\n",
      "|movieId|avg_rating        |\n",
      "+-------+------------------+\n",
      "|296    |4.197068403908795 |\n",
      "|1090   |3.984126984126984 |\n",
      "|115713 |3.9107142857142856|\n",
      "|3210   |3.4761904761904763|\n",
      "|88140  |3.546875          |\n",
      "|829    |2.6666666666666665|\n",
      "|2088   |2.5               |\n",
      "|2294   |3.2444444444444445|\n",
      "|4821   |3.1               |\n",
      "|48738  |3.975             |\n",
      "+-------+------------------+\n",
      "only showing top 10 rows\n",
      "\n"
     ]
    }
   ],
   "source": [
    "df11 = df1.groupBy(\"movieId\").agg(avg(\"rating\").alias(\"avg_rating\"))\n",
    "df11.show(10, truncate = False)"
   ]
  },
  {
   "cell_type": "code",
   "execution_count": 7,
   "id": "1f56e1af",
   "metadata": {},
   "outputs": [
    {
     "name": "stdout",
     "output_type": "stream",
     "text": [
      "+-------+----------+-------+-----------------------------------------------------------------+\n",
      "|movieId|avg_rating|imdbId |title                                                            |\n",
      "+-------+----------+-------+-----------------------------------------------------------------+\n",
      "|2423   |3.57      |0097958|Christmas Vacation (National Lampoon's Christmas Vacation) (1989)|\n",
      "|1099   |3.38      |0029992|Christmas Carol, A (1938)                                        |\n",
      "|3988   |3.05      |0170016|How the Grinch Stole Christmas (a.k.a. The Grinch) (2000)        |\n",
      "|72692  |5.0       |0238414|Mickey's Once Upon a Christmas (1999)                            |\n",
      "|8492   |3.25      |0044008|Christmas Carol, A (Scrooge) (1951)                              |\n",
      "|147372 |3.75      |4050552|Doctor Who: Last Christmas (2014)                                |\n",
      "|117368 |3.5       |0484439|The Madagascar Penguins in a Christmas Caper (2005)              |\n",
      "|117922 |3.5       |2100546|Ice Age: A Mammoth Christmas (2011)                              |\n",
      "|82242  |4.25      |1401143|Rare Exports: A Christmas Tale (Rare Exports) (2010)             |\n",
      "|105540 |4.5       |0166960|All Dogs Christmas Carol, An (1998)                              |\n",
      "+-------+----------+-------+-----------------------------------------------------------------+\n",
      "only showing top 10 rows\n",
      "\n"
     ]
    }
   ],
   "source": [
    "df_movie = df11.join(df2, df11.movieId == df2.movieId, \"inner\") \\\n",
    "               .join(df3, df11.movieId == df3.movieId, \"inner\") \\\n",
    "               .where((col(\"avg_rating\") > 3) & (col(\"title\").like(\"%Christmas%\"))) \\\n",
    "               .select(df11.movieId, round(df11.avg_rating, 2).alias(\"avg_rating\"), df2.imdbId, df3.title)\n",
    "df_movie.show(10, truncate = False)"
   ]
  },
  {
   "cell_type": "code",
   "execution_count": 8,
   "id": "f6c626b5",
   "metadata": {},
   "outputs": [
    {
     "name": "stdout",
     "output_type": "stream",
     "text": [
      "root\n",
      " |-- movieId: string (nullable = true)\n",
      " |-- avg_rating: double (nullable = true)\n",
      " |-- imdbId: string (nullable = true)\n",
      " |-- title: string (nullable = true)\n",
      "\n"
     ]
    }
   ],
   "source": [
    "df_movie.printSchema()"
   ]
  },
  {
   "cell_type": "markdown",
   "id": "9cf83641",
   "metadata": {},
   "source": [
    "Convert \"movieId\" from string to integer"
   ]
  },
  {
   "cell_type": "code",
   "execution_count": 9,
   "id": "dadd6b24",
   "metadata": {},
   "outputs": [
    {
     "name": "stdout",
     "output_type": "stream",
     "text": [
      "root\n",
      " |-- movieId: integer (nullable = true)\n",
      " |-- avg_rating: double (nullable = true)\n",
      " |-- imdbId: string (nullable = true)\n",
      " |-- title: string (nullable = true)\n",
      "\n"
     ]
    }
   ],
   "source": [
    "df_movie2 = df_movie.withColumn(\"movieId\", df_movie.movieId.cast(\"int\"))\n",
    "df_movie2.printSchema()"
   ]
  },
  {
   "cell_type": "code",
   "execution_count": 10,
   "id": "5e8227b0",
   "metadata": {
    "scrolled": true
   },
   "outputs": [
    {
     "name": "stdout",
     "output_type": "stream",
     "text": [
      "+-------+----------+-------+-----------------------------------------------------------------+\n",
      "|movieId|avg_rating|imdbId |title                                                            |\n",
      "+-------+----------+-------+-----------------------------------------------------------------+\n",
      "|551    |3.55      |0107688|Nightmare Before Christmas, The (1993)                           |\n",
      "|1099   |3.38      |0029992|Christmas Carol, A (1938)                                        |\n",
      "|2083   |3.74      |0104940|Muppet Christmas Carol, The (1992)                               |\n",
      "|2423   |3.57      |0097958|Christmas Vacation (National Lampoon's Christmas Vacation) (1989)|\n",
      "|2804   |3.97      |0085334|Christmas Story, A (1983)                                        |\n",
      "|3675   |4.19      |0047673|White Christmas (1954)                                           |\n",
      "|3988   |3.05      |0170016|How the Grinch Stole Christmas (a.k.a. The Grinch) (2000)        |\n",
      "|5980   |3.5       |0071222|Black Christmas (1974)                                           |\n",
      "|8492   |3.25      |0044008|Christmas Carol, A (Scrooge) (1951)                              |\n",
      "|26133  |4.0       |0059026|Charlie Brown Christmas, A (1965)                                |\n",
      "+-------+----------+-------+-----------------------------------------------------------------+\n",
      "only showing top 10 rows\n",
      "\n"
     ]
    }
   ],
   "source": [
    "df_movie3 = df_movie2.orderBy(\"movieId\")\n",
    "df_movie3.show(10, truncate = False)"
   ]
  },
  {
   "cell_type": "markdown",
   "id": "90e6578f",
   "metadata": {},
   "source": [
    "### Write df_movie3 to a CSV file"
   ]
  },
  {
   "cell_type": "code",
   "execution_count": 11,
   "id": "0df7241b",
   "metadata": {},
   "outputs": [],
   "source": [
    "df_movie3.write.format(\"csv\").option(\"header\", \"true\").save(\"df_movie\")"
   ]
  }
 ],
 "metadata": {
  "kernelspec": {
   "display_name": "Python 3 (ipykernel)",
   "language": "python",
   "name": "python3"
  },
  "language_info": {
   "codemirror_mode": {
    "name": "ipython",
    "version": 3
   },
   "file_extension": ".py",
   "mimetype": "text/x-python",
   "name": "python",
   "nbconvert_exporter": "python",
   "pygments_lexer": "ipython3",
   "version": "3.9.13"
  }
 },
 "nbformat": 4,
 "nbformat_minor": 5
}
